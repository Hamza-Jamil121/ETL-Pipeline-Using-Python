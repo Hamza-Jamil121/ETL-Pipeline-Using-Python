{
 "cells": [
  {
   "cell_type": "markdown",
   "id": "ba5b84bc",
   "metadata": {},
   "source": [
    "#  Data Ingestion Using Python\n",
    "**# In this ETL pipeline i  used pandas libarary  and Pyodbc libarry and for basic data visualtization i used searborn library**\n",
    "\n",
    "**data fetching and data transformation on value column and created new column transform column\n"
   ]
  },
  {
   "cell_type": "code",
   "execution_count": 33,
   "id": "f633adb4",
   "metadata": {},
   "outputs": [],
   "source": [
    "# here i import the necessary libarary for ETL Pipeline\n",
    "import pandas as pd\n",
    "import pyodbc"
   ]
  },
  {
   "cell_type": "code",
   "execution_count": 34,
   "id": "37676877",
   "metadata": {},
   "outputs": [
    {
     "data": {
      "text/html": [
       "<div>\n",
       "<style scoped>\n",
       "    .dataframe tbody tr th:only-of-type {\n",
       "        vertical-align: middle;\n",
       "    }\n",
       "\n",
       "    .dataframe tbody tr th {\n",
       "        vertical-align: top;\n",
       "    }\n",
       "\n",
       "    .dataframe thead th {\n",
       "        text-align: right;\n",
       "    }\n",
       "</style>\n",
       "<table border=\"1\" class=\"dataframe\">\n",
       "  <thead>\n",
       "    <tr style=\"text-align: right;\">\n",
       "      <th></th>\n",
       "      <th>MeasureId</th>\n",
       "      <th>MeasureName</th>\n",
       "      <th>MeasureType</th>\n",
       "      <th>StratificationLevel</th>\n",
       "      <th>StateFips</th>\n",
       "      <th>StateName</th>\n",
       "      <th>CountyFips</th>\n",
       "      <th>CountyName</th>\n",
       "      <th>ReportYear</th>\n",
       "      <th>Value</th>\n",
       "      <th>Unit</th>\n",
       "      <th>UnitName</th>\n",
       "      <th>DataOrigin</th>\n",
       "      <th>MonitorOnly</th>\n",
       "      <th>Transform_colum</th>\n",
       "    </tr>\n",
       "  </thead>\n",
       "  <tbody>\n",
       "    <tr>\n",
       "      <th>0</th>\n",
       "      <td>83</td>\n",
       "      <td>Number of days with maximum 8-hour average ozo...</td>\n",
       "      <td>Counts</td>\n",
       "      <td>State x County</td>\n",
       "      <td>1</td>\n",
       "      <td>Alabama</td>\n",
       "      <td>1027</td>\n",
       "      <td>Clay</td>\n",
       "      <td>1999</td>\n",
       "      <td>33.0</td>\n",
       "      <td>No Units</td>\n",
       "      <td>No Units</td>\n",
       "      <td>Monitor Only</td>\n",
       "      <td>1</td>\n",
       "      <td>132.0</td>\n",
       "    </tr>\n",
       "    <tr>\n",
       "      <th>1</th>\n",
       "      <td>83</td>\n",
       "      <td>Number of days with maximum 8-hour average ozo...</td>\n",
       "      <td>Counts</td>\n",
       "      <td>State x County</td>\n",
       "      <td>1</td>\n",
       "      <td>Alabama</td>\n",
       "      <td>1051</td>\n",
       "      <td>Elmore</td>\n",
       "      <td>1999</td>\n",
       "      <td>5.0</td>\n",
       "      <td>No Units</td>\n",
       "      <td>No Units</td>\n",
       "      <td>Monitor Only</td>\n",
       "      <td>1</td>\n",
       "      <td>20.0</td>\n",
       "    </tr>\n",
       "    <tr>\n",
       "      <th>2</th>\n",
       "      <td>83</td>\n",
       "      <td>Number of days with maximum 8-hour average ozo...</td>\n",
       "      <td>Counts</td>\n",
       "      <td>State x County</td>\n",
       "      <td>1</td>\n",
       "      <td>Alabama</td>\n",
       "      <td>1073</td>\n",
       "      <td>Jefferson</td>\n",
       "      <td>1999</td>\n",
       "      <td>39.0</td>\n",
       "      <td>No Units</td>\n",
       "      <td>No Units</td>\n",
       "      <td>Monitor Only</td>\n",
       "      <td>1</td>\n",
       "      <td>156.0</td>\n",
       "    </tr>\n",
       "    <tr>\n",
       "      <th>3</th>\n",
       "      <td>83</td>\n",
       "      <td>Number of days with maximum 8-hour average ozo...</td>\n",
       "      <td>Counts</td>\n",
       "      <td>State x County</td>\n",
       "      <td>1</td>\n",
       "      <td>Alabama</td>\n",
       "      <td>1079</td>\n",
       "      <td>Lawrence</td>\n",
       "      <td>1999</td>\n",
       "      <td>28.0</td>\n",
       "      <td>No Units</td>\n",
       "      <td>No Units</td>\n",
       "      <td>Monitor Only</td>\n",
       "      <td>1</td>\n",
       "      <td>112.0</td>\n",
       "    </tr>\n",
       "    <tr>\n",
       "      <th>4</th>\n",
       "      <td>83</td>\n",
       "      <td>Number of days with maximum 8-hour average ozo...</td>\n",
       "      <td>Counts</td>\n",
       "      <td>State x County</td>\n",
       "      <td>1</td>\n",
       "      <td>Alabama</td>\n",
       "      <td>1089</td>\n",
       "      <td>Madison</td>\n",
       "      <td>1999</td>\n",
       "      <td>31.0</td>\n",
       "      <td>No Units</td>\n",
       "      <td>No Units</td>\n",
       "      <td>Monitor Only</td>\n",
       "      <td>1</td>\n",
       "      <td>124.0</td>\n",
       "    </tr>\n",
       "  </tbody>\n",
       "</table>\n",
       "</div>"
      ],
      "text/plain": [
       "   MeasureId                                        MeasureName MeasureType  \\\n",
       "0         83  Number of days with maximum 8-hour average ozo...      Counts   \n",
       "1         83  Number of days with maximum 8-hour average ozo...      Counts   \n",
       "2         83  Number of days with maximum 8-hour average ozo...      Counts   \n",
       "3         83  Number of days with maximum 8-hour average ozo...      Counts   \n",
       "4         83  Number of days with maximum 8-hour average ozo...      Counts   \n",
       "\n",
       "  StratificationLevel  StateFips StateName  CountyFips CountyName  ReportYear  \\\n",
       "0      State x County          1   Alabama        1027       Clay        1999   \n",
       "1      State x County          1   Alabama        1051     Elmore        1999   \n",
       "2      State x County          1   Alabama        1073  Jefferson        1999   \n",
       "3      State x County          1   Alabama        1079   Lawrence        1999   \n",
       "4      State x County          1   Alabama        1089    Madison        1999   \n",
       "\n",
       "   Value      Unit  UnitName    DataOrigin  MonitorOnly  Transform_colum  \n",
       "0   33.0  No Units  No Units  Monitor Only            1            132.0  \n",
       "1    5.0  No Units  No Units  Monitor Only            1             20.0  \n",
       "2   39.0  No Units  No Units  Monitor Only            1            156.0  \n",
       "3   28.0  No Units  No Units  Monitor Only            1            112.0  \n",
       "4   31.0  No Units  No Units  Monitor Only            1            124.0  "
      ]
     },
     "execution_count": 34,
     "metadata": {},
     "output_type": "execute_result"
    }
   ],
   "source": [
    "df =pd.read_csv(r\"C:\\Users\\THINK\\Desktop\\ETL PIPELINE\\Air_Quality_Measures_on_the_National_Environmental_Health_Tracking_Network.csv\"\n",
    "                         )\n",
    "df['Transform_colum']= df['Value'] * 4\n",
    "df.head()"
   ]
  },
  {
   "cell_type": "code",
   "execution_count": 39,
   "id": "26cd49df",
   "metadata": {},
   "outputs": [
    {
     "data": {
      "text/plain": [
       "218635"
      ]
     },
     "execution_count": 39,
     "metadata": {},
     "output_type": "execute_result"
    }
   ],
   "source": [
    "#srouce table count\n",
    "len(df)"
   ]
  },
  {
   "cell_type": "markdown",
   "id": "b0d45511",
   "metadata": {},
   "source": [
    "#\n",
    "**here i added date column in the dataset,if we maintain history in this etl pipeline , so this date column helpful to identify always latest data with the help of date column"
   ]
  },
  {
   "cell_type": "code",
   "execution_count": 35,
   "id": "a259e883",
   "metadata": {},
   "outputs": [],
   "source": [
    "df['date'] = pd.Timestamp(\"today\").strftime(\"%Y-%m-%d\")"
   ]
  },
  {
   "cell_type": "markdown",
   "id": "5e9ea05a",
   "metadata": {},
   "source": [
    "After adding date column in the dataset i just convert complete data into a dataframe "
   ]
  },
  {
   "cell_type": "code",
   "execution_count": 36,
   "id": "c185a7af",
   "metadata": {},
   "outputs": [
    {
     "data": {
      "text/html": [
       "<div>\n",
       "<style scoped>\n",
       "    .dataframe tbody tr th:only-of-type {\n",
       "        vertical-align: middle;\n",
       "    }\n",
       "\n",
       "    .dataframe tbody tr th {\n",
       "        vertical-align: top;\n",
       "    }\n",
       "\n",
       "    .dataframe thead th {\n",
       "        text-align: right;\n",
       "    }\n",
       "</style>\n",
       "<table border=\"1\" class=\"dataframe\">\n",
       "  <thead>\n",
       "    <tr style=\"text-align: right;\">\n",
       "      <th></th>\n",
       "      <th>MeasureId</th>\n",
       "      <th>MeasureName</th>\n",
       "      <th>MeasureType</th>\n",
       "      <th>StratificationLevel</th>\n",
       "      <th>StateFips</th>\n",
       "      <th>StateName</th>\n",
       "      <th>CountyFips</th>\n",
       "      <th>CountyName</th>\n",
       "      <th>ReportYear</th>\n",
       "      <th>Value</th>\n",
       "      <th>Unit</th>\n",
       "      <th>UnitName</th>\n",
       "      <th>DataOrigin</th>\n",
       "      <th>MonitorOnly</th>\n",
       "      <th>Transform_colum</th>\n",
       "      <th>date</th>\n",
       "    </tr>\n",
       "  </thead>\n",
       "  <tbody>\n",
       "    <tr>\n",
       "      <th>0</th>\n",
       "      <td>83</td>\n",
       "      <td>Number of days with maximum 8-hour average ozo...</td>\n",
       "      <td>Counts</td>\n",
       "      <td>State x County</td>\n",
       "      <td>1</td>\n",
       "      <td>Alabama</td>\n",
       "      <td>1027</td>\n",
       "      <td>Clay</td>\n",
       "      <td>1999</td>\n",
       "      <td>33.0</td>\n",
       "      <td>No Units</td>\n",
       "      <td>No Units</td>\n",
       "      <td>Monitor Only</td>\n",
       "      <td>1</td>\n",
       "      <td>132.0</td>\n",
       "      <td>2022-04-02</td>\n",
       "    </tr>\n",
       "    <tr>\n",
       "      <th>1</th>\n",
       "      <td>83</td>\n",
       "      <td>Number of days with maximum 8-hour average ozo...</td>\n",
       "      <td>Counts</td>\n",
       "      <td>State x County</td>\n",
       "      <td>1</td>\n",
       "      <td>Alabama</td>\n",
       "      <td>1051</td>\n",
       "      <td>Elmore</td>\n",
       "      <td>1999</td>\n",
       "      <td>5.0</td>\n",
       "      <td>No Units</td>\n",
       "      <td>No Units</td>\n",
       "      <td>Monitor Only</td>\n",
       "      <td>1</td>\n",
       "      <td>20.0</td>\n",
       "      <td>2022-04-02</td>\n",
       "    </tr>\n",
       "    <tr>\n",
       "      <th>2</th>\n",
       "      <td>83</td>\n",
       "      <td>Number of days with maximum 8-hour average ozo...</td>\n",
       "      <td>Counts</td>\n",
       "      <td>State x County</td>\n",
       "      <td>1</td>\n",
       "      <td>Alabama</td>\n",
       "      <td>1073</td>\n",
       "      <td>Jefferson</td>\n",
       "      <td>1999</td>\n",
       "      <td>39.0</td>\n",
       "      <td>No Units</td>\n",
       "      <td>No Units</td>\n",
       "      <td>Monitor Only</td>\n",
       "      <td>1</td>\n",
       "      <td>156.0</td>\n",
       "      <td>2022-04-02</td>\n",
       "    </tr>\n",
       "    <tr>\n",
       "      <th>3</th>\n",
       "      <td>83</td>\n",
       "      <td>Number of days with maximum 8-hour average ozo...</td>\n",
       "      <td>Counts</td>\n",
       "      <td>State x County</td>\n",
       "      <td>1</td>\n",
       "      <td>Alabama</td>\n",
       "      <td>1079</td>\n",
       "      <td>Lawrence</td>\n",
       "      <td>1999</td>\n",
       "      <td>28.0</td>\n",
       "      <td>No Units</td>\n",
       "      <td>No Units</td>\n",
       "      <td>Monitor Only</td>\n",
       "      <td>1</td>\n",
       "      <td>112.0</td>\n",
       "      <td>2022-04-02</td>\n",
       "    </tr>\n",
       "    <tr>\n",
       "      <th>4</th>\n",
       "      <td>83</td>\n",
       "      <td>Number of days with maximum 8-hour average ozo...</td>\n",
       "      <td>Counts</td>\n",
       "      <td>State x County</td>\n",
       "      <td>1</td>\n",
       "      <td>Alabama</td>\n",
       "      <td>1089</td>\n",
       "      <td>Madison</td>\n",
       "      <td>1999</td>\n",
       "      <td>31.0</td>\n",
       "      <td>No Units</td>\n",
       "      <td>No Units</td>\n",
       "      <td>Monitor Only</td>\n",
       "      <td>1</td>\n",
       "      <td>124.0</td>\n",
       "      <td>2022-04-02</td>\n",
       "    </tr>\n",
       "  </tbody>\n",
       "</table>\n",
       "</div>"
      ],
      "text/plain": [
       "   MeasureId                                        MeasureName MeasureType  \\\n",
       "0         83  Number of days with maximum 8-hour average ozo...      Counts   \n",
       "1         83  Number of days with maximum 8-hour average ozo...      Counts   \n",
       "2         83  Number of days with maximum 8-hour average ozo...      Counts   \n",
       "3         83  Number of days with maximum 8-hour average ozo...      Counts   \n",
       "4         83  Number of days with maximum 8-hour average ozo...      Counts   \n",
       "\n",
       "  StratificationLevel  StateFips StateName  CountyFips CountyName  ReportYear  \\\n",
       "0      State x County          1   Alabama        1027       Clay        1999   \n",
       "1      State x County          1   Alabama        1051     Elmore        1999   \n",
       "2      State x County          1   Alabama        1073  Jefferson        1999   \n",
       "3      State x County          1   Alabama        1079   Lawrence        1999   \n",
       "4      State x County          1   Alabama        1089    Madison        1999   \n",
       "\n",
       "   Value      Unit  UnitName    DataOrigin  MonitorOnly  Transform_colum  \\\n",
       "0   33.0  No Units  No Units  Monitor Only            1            132.0   \n",
       "1    5.0  No Units  No Units  Monitor Only            1             20.0   \n",
       "2   39.0  No Units  No Units  Monitor Only            1            156.0   \n",
       "3   28.0  No Units  No Units  Monitor Only            1            112.0   \n",
       "4   31.0  No Units  No Units  Monitor Only            1            124.0   \n",
       "\n",
       "         date  \n",
       "0  2022-04-02  \n",
       "1  2022-04-02  \n",
       "2  2022-04-02  \n",
       "3  2022-04-02  \n",
       "4  2022-04-02  "
      ]
     },
     "execution_count": 36,
     "metadata": {},
     "output_type": "execute_result"
    }
   ],
   "source": [
    "df =pd.DataFrame(df)\n",
    "df.head()"
   ]
  },
  {
   "cell_type": "markdown",
   "id": "0d2e0e29",
   "metadata": {},
   "source": [
    "after fectching data from source and after data transformation here i created connection for targeted database,here i use SQL Server \n",
    "for the targeted database, and i ingest the complete source data file in the sql db."
   ]
  },
  {
   "cell_type": "code",
   "execution_count": 5,
   "id": "dd4049da",
   "metadata": {},
   "outputs": [
    {
     "data": {
      "text/plain": [
       "<pyodbc.Cursor at 0x26702a6f630>"
      ]
     },
     "execution_count": 5,
     "metadata": {},
     "output_type": "execute_result"
    }
   ],
   "source": [
    "\n",
    "server = \"DESKTOP-G87QUGF\"\n",
    "db = 'test'\n",
    "conn = pyodbc.connect('DRIVER={SQL Server};SERVER=' + server + ';DATABASE=' +\n",
    "                      db + ';Trusted_Connection=yes')\n",
    "cursor = conn.cursor()\n",
    "cursor"
   ]
  },
  {
   "cell_type": "markdown",
   "id": "fe343fb9",
   "metadata": {},
   "source": [
    "I write the code for create the table schema or table structure in Sql db, table name is Air_Quality "
   ]
  },
  {
   "cell_type": "code",
   "execution_count": 6,
   "id": "2180e73a",
   "metadata": {},
   "outputs": [
    {
     "data": {
      "text/plain": [
       "<pyodbc.Cursor at 0x26702a6f630>"
      ]
     },
     "execution_count": 6,
     "metadata": {},
     "output_type": "execute_result"
    }
   ],
   "source": [
    "cursor.execute('''\n",
    "    CREATE TABLE Air_Quality (\n",
    "     MeasureId  int,\n",
    "MeasureName  nvarchar(1000),\n",
    "MeasureType   nvarchar(100),\n",
    "StratificationLevel   nvarchar(100),\n",
    "StateFips   nvarchar(100),\n",
    "StateName   nvarchar(100),\n",
    "CountyFips    nvarchar(100),\n",
    "CountyName    nvarchar(100),\n",
    "ReportYear    nvarchar(100),\n",
    "Value   int,\n",
    "Unit    nvarchar(100),\n",
    "UnitName    nvarchar(100),\n",
    "DataOrigin    nvarchar(100),\n",
    "MonitorOnly  nvarchar(100),\n",
    "date nvarchar(20),\n",
    "Transform_colum decimal(18,3)\n",
    "\n",
    "      )\n",
    "               ''')\n"
   ]
  },
  {
   "cell_type": "markdown",
   "id": "c9c3548d",
   "metadata": {},
   "source": [
    "when our ETL run on the daily basic first Target table truncated and then latest data stored in the sql table, but if we want to maintain the history in the target table so we can  remove the trucate table code for maintain the history"
   ]
  },
  {
   "cell_type": "code",
   "execution_count": 7,
   "id": "e72fa644",
   "metadata": {},
   "outputs": [
    {
     "data": {
      "text/plain": [
       "<pyodbc.Cursor at 0x26702a6f630>"
      ]
     },
     "execution_count": 7,
     "metadata": {},
     "output_type": "execute_result"
    }
   ],
   "source": [
    "truncate_query = \"\"\" Truncate table  [Air_Quality] \"\"\"\n",
    "cursor.execute(truncate_query)"
   ]
  },
  {
   "cell_type": "markdown",
   "id": "7f2981bf",
   "metadata": {},
   "source": [
    "data insertion from source to sql database table "
   ]
  },
  {
   "cell_type": "code",
   "execution_count": 8,
   "id": "635ca55d",
   "metadata": {},
   "outputs": [],
   "source": [
    "for row in df.itertuples(truncate_query):\n",
    "    cursor.execute('''\n",
    "                INSERT INTO Air_Quality (    MeasureId,\n",
    "MeasureName,\n",
    "MeasureType,\n",
    "StratificationLevel,\n",
    "StateFips,\n",
    "StateName,\n",
    "CountyFips,\n",
    "CountyName,\n",
    "ReportYear,\n",
    "Value,\n",
    "Unit,\n",
    "UnitName,\n",
    "DataOrigin,\n",
    "MonitorOnly,\n",
    "date,Transform_colum)\n",
    "                VALUES (?,?,?,?,?,?,?,?,?,?,?,?,?,?,?,?)\n",
    "                ''',\n",
    "               row.MeasureId,\n",
    "row.MeasureName,\n",
    "row.MeasureType,\n",
    "row.StratificationLevel,\n",
    "row.StateFips,\n",
    "row.StateName,\n",
    "row.CountyFips,\n",
    "row.CountyName,\n",
    "row.ReportYear,\n",
    "row.Value,\n",
    "row.Unit,\n",
    "row.UnitName,\n",
    "row.DataOrigin,\n",
    "row.MonitorOnly,\n",
    "row.date,\n",
    "row.Transform_colum\n",
    "                )\n",
    "conn.commit()"
   ]
  },
  {
   "cell_type": "markdown",
   "id": "f307ed42",
   "metadata": {},
   "source": [
    "after data insertion in the targeted table, here i read data from the target table sql dbms"
   ]
  },
  {
   "cell_type": "code",
   "execution_count": 11,
   "id": "b8f18d72",
   "metadata": {},
   "outputs": [
    {
     "data": {
      "text/html": [
       "<div>\n",
       "<style scoped>\n",
       "    .dataframe tbody tr th:only-of-type {\n",
       "        vertical-align: middle;\n",
       "    }\n",
       "\n",
       "    .dataframe tbody tr th {\n",
       "        vertical-align: top;\n",
       "    }\n",
       "\n",
       "    .dataframe thead th {\n",
       "        text-align: right;\n",
       "    }\n",
       "</style>\n",
       "<table border=\"1\" class=\"dataframe\">\n",
       "  <thead>\n",
       "    <tr style=\"text-align: right;\">\n",
       "      <th></th>\n",
       "      <th>MeasureId</th>\n",
       "      <th>MeasureName</th>\n",
       "      <th>MeasureType</th>\n",
       "      <th>StratificationLevel</th>\n",
       "      <th>StateFips</th>\n",
       "      <th>StateName</th>\n",
       "      <th>CountyFips</th>\n",
       "      <th>CountyName</th>\n",
       "      <th>ReportYear</th>\n",
       "      <th>Value</th>\n",
       "      <th>Unit</th>\n",
       "      <th>UnitName</th>\n",
       "      <th>DataOrigin</th>\n",
       "      <th>MonitorOnly</th>\n",
       "      <th>date</th>\n",
       "      <th>Transform_colum</th>\n",
       "    </tr>\n",
       "  </thead>\n",
       "  <tbody>\n",
       "    <tr>\n",
       "      <th>0</th>\n",
       "      <td>83</td>\n",
       "      <td>Number of days with maximum 8-hour average ozo...</td>\n",
       "      <td>Counts</td>\n",
       "      <td>State x County</td>\n",
       "      <td>1</td>\n",
       "      <td>Alabama</td>\n",
       "      <td>1027</td>\n",
       "      <td>Clay</td>\n",
       "      <td>1999</td>\n",
       "      <td>33</td>\n",
       "      <td>No Units</td>\n",
       "      <td>No Units</td>\n",
       "      <td>Monitor Only</td>\n",
       "      <td>1</td>\n",
       "      <td>2022-04-02</td>\n",
       "      <td>132.0</td>\n",
       "    </tr>\n",
       "    <tr>\n",
       "      <th>1</th>\n",
       "      <td>83</td>\n",
       "      <td>Number of days with maximum 8-hour average ozo...</td>\n",
       "      <td>Counts</td>\n",
       "      <td>State x County</td>\n",
       "      <td>1</td>\n",
       "      <td>Alabama</td>\n",
       "      <td>1051</td>\n",
       "      <td>Elmore</td>\n",
       "      <td>1999</td>\n",
       "      <td>5</td>\n",
       "      <td>No Units</td>\n",
       "      <td>No Units</td>\n",
       "      <td>Monitor Only</td>\n",
       "      <td>1</td>\n",
       "      <td>2022-04-02</td>\n",
       "      <td>20.0</td>\n",
       "    </tr>\n",
       "    <tr>\n",
       "      <th>2</th>\n",
       "      <td>83</td>\n",
       "      <td>Number of days with maximum 8-hour average ozo...</td>\n",
       "      <td>Counts</td>\n",
       "      <td>State x County</td>\n",
       "      <td>1</td>\n",
       "      <td>Alabama</td>\n",
       "      <td>1073</td>\n",
       "      <td>Jefferson</td>\n",
       "      <td>1999</td>\n",
       "      <td>39</td>\n",
       "      <td>No Units</td>\n",
       "      <td>No Units</td>\n",
       "      <td>Monitor Only</td>\n",
       "      <td>1</td>\n",
       "      <td>2022-04-02</td>\n",
       "      <td>156.0</td>\n",
       "    </tr>\n",
       "    <tr>\n",
       "      <th>3</th>\n",
       "      <td>83</td>\n",
       "      <td>Number of days with maximum 8-hour average ozo...</td>\n",
       "      <td>Counts</td>\n",
       "      <td>State x County</td>\n",
       "      <td>1</td>\n",
       "      <td>Alabama</td>\n",
       "      <td>1079</td>\n",
       "      <td>Lawrence</td>\n",
       "      <td>1999</td>\n",
       "      <td>28</td>\n",
       "      <td>No Units</td>\n",
       "      <td>No Units</td>\n",
       "      <td>Monitor Only</td>\n",
       "      <td>1</td>\n",
       "      <td>2022-04-02</td>\n",
       "      <td>112.0</td>\n",
       "    </tr>\n",
       "    <tr>\n",
       "      <th>4</th>\n",
       "      <td>83</td>\n",
       "      <td>Number of days with maximum 8-hour average ozo...</td>\n",
       "      <td>Counts</td>\n",
       "      <td>State x County</td>\n",
       "      <td>1</td>\n",
       "      <td>Alabama</td>\n",
       "      <td>1089</td>\n",
       "      <td>Madison</td>\n",
       "      <td>1999</td>\n",
       "      <td>31</td>\n",
       "      <td>No Units</td>\n",
       "      <td>No Units</td>\n",
       "      <td>Monitor Only</td>\n",
       "      <td>1</td>\n",
       "      <td>2022-04-02</td>\n",
       "      <td>124.0</td>\n",
       "    </tr>\n",
       "  </tbody>\n",
       "</table>\n",
       "</div>"
      ],
      "text/plain": [
       "   MeasureId                                        MeasureName MeasureType  \\\n",
       "0         83  Number of days with maximum 8-hour average ozo...      Counts   \n",
       "1         83  Number of days with maximum 8-hour average ozo...      Counts   \n",
       "2         83  Number of days with maximum 8-hour average ozo...      Counts   \n",
       "3         83  Number of days with maximum 8-hour average ozo...      Counts   \n",
       "4         83  Number of days with maximum 8-hour average ozo...      Counts   \n",
       "\n",
       "  StratificationLevel StateFips StateName CountyFips CountyName ReportYear  \\\n",
       "0      State x County         1   Alabama       1027       Clay       1999   \n",
       "1      State x County         1   Alabama       1051     Elmore       1999   \n",
       "2      State x County         1   Alabama       1073  Jefferson       1999   \n",
       "3      State x County         1   Alabama       1079   Lawrence       1999   \n",
       "4      State x County         1   Alabama       1089    Madison       1999   \n",
       "\n",
       "   Value      Unit  UnitName    DataOrigin MonitorOnly        date  \\\n",
       "0     33  No Units  No Units  Monitor Only           1  2022-04-02   \n",
       "1      5  No Units  No Units  Monitor Only           1  2022-04-02   \n",
       "2     39  No Units  No Units  Monitor Only           1  2022-04-02   \n",
       "3     28  No Units  No Units  Monitor Only           1  2022-04-02   \n",
       "4     31  No Units  No Units  Monitor Only           1  2022-04-02   \n",
       "\n",
       "   Transform_colum  \n",
       "0            132.0  \n",
       "1             20.0  \n",
       "2            156.0  \n",
       "3            112.0  \n",
       "4            124.0  "
      ]
     },
     "execution_count": 11,
     "metadata": {},
     "output_type": "execute_result"
    }
   ],
   "source": [
    "query = \"SELECT * FROM test.dbo.Air_Quality;\"\n",
    "df1 = pd.read_sql(query, conn)\n",
    "df1.head()"
   ]
  },
  {
   "cell_type": "code",
   "execution_count": 41,
   "id": "8e95e3b3",
   "metadata": {},
   "outputs": [
    {
     "data": {
      "text/plain": [
       "218635"
      ]
     },
     "execution_count": 41,
     "metadata": {},
     "output_type": "execute_result"
    }
   ],
   "source": [
    "# targeted table count\n",
    "len(df1)"
   ]
  },
  {
   "cell_type": "markdown",
   "id": "266ea9ca",
   "metadata": {},
   "source": [
    "BASIC data presenting using barplot seaborn "
   ]
  },
  {
   "cell_type": "code",
   "execution_count": 55,
   "id": "eb29280f",
   "metadata": {},
   "outputs": [
    {
     "data": {
      "text/plain": [
       "Text(0.5, 1.0, 'BarPlot for Report Year vs Value')"
      ]
     },
     "execution_count": 55,
     "metadata": {},
     "output_type": "execute_result"
    },
    {
     "data": {
      "image/png": "[encoded data removed]",
      "text/plain": [
       "<Figure size 432x288 with 1 Axes>"
      ]
     },
     "metadata": {},
     "output_type": "display_data"
    }
   ],
   "source": [
    "import seaborn as sn\n",
    "chart = sn.barplot(x='ReportYear',y='Value',data=df1,)\n",
    "chart.set_xticklabels(chart.get_xticklabels(), rotation=45)\n",
    "chart.set_title(\"BarPlot for Report Year vs Value\")"
   ]
  },
  {
   "cell_type": "code",
   "execution_count": 72,
   "id": "09979d4c",
   "metadata": {},
   "outputs": [],
   "source": [
    "# In this ETL pipeline i  used pandas libarary  and Pyodbc libarry and for basic data visualtization i used searborn library \n"
   ]
  }
 ],
 "metadata": {
  "kernelspec": {
   "display_name": "Python 3",
   "language": "python",
   "name": "python3"
  },
  "language_info": {
   "codemirror_mode": {
    "name": "ipython",
    "version": 3
   },
   "file_extension": ".py",
   "mimetype": "text/x-python",
   "name": "python",
   "nbconvert_exporter": "python",
   "pygments_lexer": "ipython3",
   "version": "3.8.8"
  }
 },
 "nbformat": 4,
 "nbformat_minor": 5
}
